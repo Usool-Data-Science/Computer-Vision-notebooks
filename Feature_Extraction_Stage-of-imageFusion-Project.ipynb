{
  "nbformat": 4,
  "nbformat_minor": 0,
  "metadata": {
    "colab": {
      "provenance": [],
      "authorship_tag": "ABX9TyMzR5UWhbgUrWNCgJd4NWBP",
      "include_colab_link": true
    },
    "kernelspec": {
      "name": "python3",
      "display_name": "Python 3"
    },
    "language_info": {
      "name": "python"
    }
  },
  "cells": [
    {
      "cell_type": "markdown",
      "metadata": {
        "id": "view-in-github",
        "colab_type": "text"
      },
      "source": [
        "<a href=\"https://colab.research.google.com/github/Usool-Data-Science/Computer-Vision-notebooks/blob/main/Feature_Extraction_Stage-of-imageFusion-Project.ipynb\" target=\"_parent\"><img src=\"https://colab.research.google.com/assets/colab-badge.svg\" alt=\"Open In Colab\"/></a>"
      ]
    },
    {
      "cell_type": "code",
      "source": [
        "# Mount Google Drive\n",
        "from google.colab import drive\n",
        "drive.mount('/content/drive')"
      ],
      "metadata": {
        "id": "YX5-qkvf1DSU",
        "colab": {
          "base_uri": "https://localhost:8080/"
        },
        "outputId": "71abaebb-58ca-4564-8b1a-ee2ed90235d7"
      },
      "execution_count": 3,
      "outputs": [
        {
          "output_type": "stream",
          "name": "stdout",
          "text": [
            "Mounted at /content/drive\n"
          ]
        }
      ]
    },
    {
      "cell_type": "code",
      "source": [
        "import torch\n",
        "import torch.nn as nn\n",
        "import torchvision.transforms as transforms\n",
        "from PIL import Image\n",
        "import os\n",
        "from google.colab import files"
      ],
      "metadata": {
        "id": "ChPRyRKBzx4r"
      },
      "execution_count": 4,
      "outputs": []
    },
    {
      "cell_type": "code",
      "source": [
        "%cd /content/drive/MyDrive\n",
        "%mkdir imageFusion\n",
        "%cd imageFusion"
      ],
      "metadata": {
        "colab": {
          "base_uri": "https://localhost:8080/"
        },
        "id": "84j8ur6d5rK6",
        "outputId": "2ff4462d-eb9c-4cc9-8daf-03d5024f827a"
      },
      "execution_count": 5,
      "outputs": [
        {
          "output_type": "stream",
          "name": "stdout",
          "text": [
            "/content/drive/MyDrive\n",
            "/content/drive/MyDrive/imageFusion\n"
          ]
        }
      ]
    },
    {
      "cell_type": "code",
      "source": [
        "upload = files.upload()"
      ],
      "metadata": {
        "colab": {
          "base_uri": "https://localhost:8080/",
          "height": 1000
        },
        "id": "olgNTaak5uai",
        "outputId": "364d012e-5180-4e16-f0a1-29a11d300255"
      },
      "execution_count": 6,
      "outputs": [
        {
          "output_type": "display_data",
          "data": {
            "text/plain": [
              "<IPython.core.display.HTML object>"
            ],
            "text/html": [
              "\n",
              "     <input type=\"file\" id=\"files-971996c7-8881-4c0f-8a14-1f737946a71f\" name=\"files[]\" multiple disabled\n",
              "        style=\"border:none\" />\n",
              "     <output id=\"result-971996c7-8881-4c0f-8a14-1f737946a71f\">\n",
              "      Upload widget is only available when the cell has been executed in the\n",
              "      current browser session. Please rerun this cell to enable.\n",
              "      </output>\n",
              "      <script>// Copyright 2017 Google LLC\n",
              "//\n",
              "// Licensed under the Apache License, Version 2.0 (the \"License\");\n",
              "// you may not use this file except in compliance with the License.\n",
              "// You may obtain a copy of the License at\n",
              "//\n",
              "//      http://www.apache.org/licenses/LICENSE-2.0\n",
              "//\n",
              "// Unless required by applicable law or agreed to in writing, software\n",
              "// distributed under the License is distributed on an \"AS IS\" BASIS,\n",
              "// WITHOUT WARRANTIES OR CONDITIONS OF ANY KIND, either express or implied.\n",
              "// See the License for the specific language governing permissions and\n",
              "// limitations under the License.\n",
              "\n",
              "/**\n",
              " * @fileoverview Helpers for google.colab Python module.\n",
              " */\n",
              "(function(scope) {\n",
              "function span(text, styleAttributes = {}) {\n",
              "  const element = document.createElement('span');\n",
              "  element.textContent = text;\n",
              "  for (const key of Object.keys(styleAttributes)) {\n",
              "    element.style[key] = styleAttributes[key];\n",
              "  }\n",
              "  return element;\n",
              "}\n",
              "\n",
              "// Max number of bytes which will be uploaded at a time.\n",
              "const MAX_PAYLOAD_SIZE = 100 * 1024;\n",
              "\n",
              "function _uploadFiles(inputId, outputId) {\n",
              "  const steps = uploadFilesStep(inputId, outputId);\n",
              "  const outputElement = document.getElementById(outputId);\n",
              "  // Cache steps on the outputElement to make it available for the next call\n",
              "  // to uploadFilesContinue from Python.\n",
              "  outputElement.steps = steps;\n",
              "\n",
              "  return _uploadFilesContinue(outputId);\n",
              "}\n",
              "\n",
              "// This is roughly an async generator (not supported in the browser yet),\n",
              "// where there are multiple asynchronous steps and the Python side is going\n",
              "// to poll for completion of each step.\n",
              "// This uses a Promise to block the python side on completion of each step,\n",
              "// then passes the result of the previous step as the input to the next step.\n",
              "function _uploadFilesContinue(outputId) {\n",
              "  const outputElement = document.getElementById(outputId);\n",
              "  const steps = outputElement.steps;\n",
              "\n",
              "  const next = steps.next(outputElement.lastPromiseValue);\n",
              "  return Promise.resolve(next.value.promise).then((value) => {\n",
              "    // Cache the last promise value to make it available to the next\n",
              "    // step of the generator.\n",
              "    outputElement.lastPromiseValue = value;\n",
              "    return next.value.response;\n",
              "  });\n",
              "}\n",
              "\n",
              "/**\n",
              " * Generator function which is called between each async step of the upload\n",
              " * process.\n",
              " * @param {string} inputId Element ID of the input file picker element.\n",
              " * @param {string} outputId Element ID of the output display.\n",
              " * @return {!Iterable<!Object>} Iterable of next steps.\n",
              " */\n",
              "function* uploadFilesStep(inputId, outputId) {\n",
              "  const inputElement = document.getElementById(inputId);\n",
              "  inputElement.disabled = false;\n",
              "\n",
              "  const outputElement = document.getElementById(outputId);\n",
              "  outputElement.innerHTML = '';\n",
              "\n",
              "  const pickedPromise = new Promise((resolve) => {\n",
              "    inputElement.addEventListener('change', (e) => {\n",
              "      resolve(e.target.files);\n",
              "    });\n",
              "  });\n",
              "\n",
              "  const cancel = document.createElement('button');\n",
              "  inputElement.parentElement.appendChild(cancel);\n",
              "  cancel.textContent = 'Cancel upload';\n",
              "  const cancelPromise = new Promise((resolve) => {\n",
              "    cancel.onclick = () => {\n",
              "      resolve(null);\n",
              "    };\n",
              "  });\n",
              "\n",
              "  // Wait for the user to pick the files.\n",
              "  const files = yield {\n",
              "    promise: Promise.race([pickedPromise, cancelPromise]),\n",
              "    response: {\n",
              "      action: 'starting',\n",
              "    }\n",
              "  };\n",
              "\n",
              "  cancel.remove();\n",
              "\n",
              "  // Disable the input element since further picks are not allowed.\n",
              "  inputElement.disabled = true;\n",
              "\n",
              "  if (!files) {\n",
              "    return {\n",
              "      response: {\n",
              "        action: 'complete',\n",
              "      }\n",
              "    };\n",
              "  }\n",
              "\n",
              "  for (const file of files) {\n",
              "    const li = document.createElement('li');\n",
              "    li.append(span(file.name, {fontWeight: 'bold'}));\n",
              "    li.append(span(\n",
              "        `(${file.type || 'n/a'}) - ${file.size} bytes, ` +\n",
              "        `last modified: ${\n",
              "            file.lastModifiedDate ? file.lastModifiedDate.toLocaleDateString() :\n",
              "                                    'n/a'} - `));\n",
              "    const percent = span('0% done');\n",
              "    li.appendChild(percent);\n",
              "\n",
              "    outputElement.appendChild(li);\n",
              "\n",
              "    const fileDataPromise = new Promise((resolve) => {\n",
              "      const reader = new FileReader();\n",
              "      reader.onload = (e) => {\n",
              "        resolve(e.target.result);\n",
              "      };\n",
              "      reader.readAsArrayBuffer(file);\n",
              "    });\n",
              "    // Wait for the data to be ready.\n",
              "    let fileData = yield {\n",
              "      promise: fileDataPromise,\n",
              "      response: {\n",
              "        action: 'continue',\n",
              "      }\n",
              "    };\n",
              "\n",
              "    // Use a chunked sending to avoid message size limits. See b/62115660.\n",
              "    let position = 0;\n",
              "    do {\n",
              "      const length = Math.min(fileData.byteLength - position, MAX_PAYLOAD_SIZE);\n",
              "      const chunk = new Uint8Array(fileData, position, length);\n",
              "      position += length;\n",
              "\n",
              "      const base64 = btoa(String.fromCharCode.apply(null, chunk));\n",
              "      yield {\n",
              "        response: {\n",
              "          action: 'append',\n",
              "          file: file.name,\n",
              "          data: base64,\n",
              "        },\n",
              "      };\n",
              "\n",
              "      let percentDone = fileData.byteLength === 0 ?\n",
              "          100 :\n",
              "          Math.round((position / fileData.byteLength) * 100);\n",
              "      percent.textContent = `${percentDone}% done`;\n",
              "\n",
              "    } while (position < fileData.byteLength);\n",
              "  }\n",
              "\n",
              "  // All done.\n",
              "  yield {\n",
              "    response: {\n",
              "      action: 'complete',\n",
              "    }\n",
              "  };\n",
              "}\n",
              "\n",
              "scope.google = scope.google || {};\n",
              "scope.google.colab = scope.google.colab || {};\n",
              "scope.google.colab._files = {\n",
              "  _uploadFiles,\n",
              "  _uploadFilesContinue,\n",
              "};\n",
              "})(self);\n",
              "</script> "
            ]
          },
          "metadata": {}
        },
        {
          "output_type": "stream",
          "name": "stdout",
          "text": [
            "Saving lytro-01-A.jpg to lytro-01-A.jpg\n",
            "Saving lytro-01-B.jpg to lytro-01-B.jpg\n",
            "Saving lytro-02-A.jpg to lytro-02-A.jpg\n",
            "Saving lytro-02-B.jpg to lytro-02-B.jpg\n",
            "Saving lytro-03-A.jpg to lytro-03-A.jpg\n",
            "Saving lytro-03-B.jpg to lytro-03-B.jpg\n",
            "Saving lytro-04-A.jpg to lytro-04-A.jpg\n",
            "Saving lytro-04-B.jpg to lytro-04-B.jpg\n",
            "Saving lytro-05-A.jpg to lytro-05-A.jpg\n",
            "Saving lytro-05-B.jpg to lytro-05-B.jpg\n",
            "Saving lytro-06-A.jpg to lytro-06-A.jpg\n",
            "Saving lytro-06-B.jpg to lytro-06-B.jpg\n",
            "Saving lytro-07-A.jpg to lytro-07-A.jpg\n",
            "Saving lytro-07-B.jpg to lytro-07-B.jpg\n",
            "Saving lytro-08-A.jpg to lytro-08-A.jpg\n",
            "Saving lytro-08-B.jpg to lytro-08-B.jpg\n",
            "Saving lytro-09-A.jpg to lytro-09-A.jpg\n",
            "Saving lytro-09-B.jpg to lytro-09-B.jpg\n",
            "Saving lytro-10-A.jpg to lytro-10-A.jpg\n",
            "Saving lytro-10-B.jpg to lytro-10-B.jpg\n",
            "Saving lytro-11-A.jpg to lytro-11-A.jpg\n",
            "Saving lytro-11-B.jpg to lytro-11-B.jpg\n",
            "Saving lytro-12-A.jpg to lytro-12-A.jpg\n",
            "Saving lytro-12-B.jpg to lytro-12-B.jpg\n",
            "Saving lytro-13-A.jpg to lytro-13-A.jpg\n",
            "Saving lytro-13-B.jpg to lytro-13-B.jpg\n",
            "Saving lytro-14-A.jpg to lytro-14-A.jpg\n",
            "Saving lytro-14-B.jpg to lytro-14-B.jpg\n",
            "Saving lytro-15-A.jpg to lytro-15-A.jpg\n",
            "Saving lytro-15-B.jpg to lytro-15-B.jpg\n",
            "Saving lytro-16-A.jpg to lytro-16-A.jpg\n",
            "Saving lytro-16-B.jpg to lytro-16-B.jpg\n",
            "Saving lytro-17-A.jpg to lytro-17-A.jpg\n",
            "Saving lytro-17-B.jpg to lytro-17-B.jpg\n",
            "Saving lytro-18-A.jpg to lytro-18-A.jpg\n",
            "Saving lytro-18-B.jpg to lytro-18-B.jpg\n",
            "Saving lytro-19-A.jpg to lytro-19-A.jpg\n",
            "Saving lytro-19-B.jpg to lytro-19-B.jpg\n",
            "Saving lytro-20-A.jpg to lytro-20-A.jpg\n",
            "Saving lytro-20-B.jpg to lytro-20-B.jpg\n"
          ]
        }
      ]
    },
    {
      "cell_type": "code",
      "source": [
        "# Define the convolutional layer\n",
        "conv_layer = nn.Sequential(\n",
        "    nn.Conv2d(3, 16, kernel_size=3, stride=1, padding=1),\n",
        "    nn.BatchNorm2d(16),\n",
        "    nn.ReLU(),\n",
        "    nn.MaxPool2d(kernel_size=2, stride=2),\n",
        "    nn.Conv2d(16, 32, kernel_size=3, stride=1, padding=1),\n",
        "    nn.BatchNorm2d(32),\n",
        "    nn.ReLU(),\n",
        "    nn.MaxPool2d(kernel_size=2, stride=2)\n",
        ")\n"
      ],
      "metadata": {
        "id": "g-LAxEl9z7Va"
      },
      "execution_count": 8,
      "outputs": []
    },
    {
      "cell_type": "code",
      "source": [
        "# Define the self-attention layer\n",
        "class SelfAttention(nn.Module):\n",
        "    def __init__(self, in_channels):\n",
        "        super(SelfAttention, self).__init__()\n",
        "\n",
        "        self.query_conv = nn.Conv2d(in_channels, in_channels // 8, kernel_size=1)\n",
        "        self.key_conv = nn.Conv2d(in_channels, in_channels // 8, kernel_size=1)\n",
        "        self.value_conv = nn.Conv2d(in_channels, in_channels, kernel_size=1)\n",
        "        self.gamma = nn.Parameter(torch.zeros(1))\n",
        "\n",
        "        self.softmax = nn.Softmax(dim=-1)\n",
        "\n",
        "    def forward(self, x):\n",
        "        batch_size, channels, height, width = x.size()\n",
        "        \n",
        "        # Project the inputs to query, key, and value\n",
        "        proj_query = self.query_conv(x).view(batch_size, -1, width * height).permute(0, 2, 1)\n",
        "        proj_key = self.key_conv(x).view(batch_size, -1, width * height)\n",
        "\n",
        "        # Compute the attention scores\n",
        "        energy = torch.bmm(proj_query, proj_key)\n",
        "        attention = self.softmax(energy)\n",
        "\n",
        "        # Apply the attention to the value\n",
        "        proj_value = self.value_conv(x).view(batch_size, -1, width * height)\n",
        "        out = torch.bmm(proj_value, attention.permute(0, 2, 1))\n",
        "        out = out.view(batch_size, channels, height, width)\n",
        "\n",
        "        # Apply the scaling factor and add to the input\n",
        "        out = self.gamma * out + x\n",
        "\n",
        "        return out"
      ],
      "metadata": {
        "id": "E3m0CSb82nPa"
      },
      "execution_count": 9,
      "outputs": []
    },
    {
      "cell_type": "code",
      "source": [
        "# Define the image transformer\n",
        "transform = transforms.Compose([\n",
        "    transforms.Resize((256, 256)),\n",
        "    transforms.ToTensor(),\n",
        "    transforms.Normalize(mean=[0.485, 0.456, 0.406], std=[0.229, 0.224, 0.225])\n",
        "])"
      ],
      "metadata": {
        "id": "_1KMvLNu5ASR"
      },
      "execution_count": 10,
      "outputs": []
    },
    {
      "cell_type": "code",
      "source": [
        "%cd /content/drive/MyDrive/imageFusion\n",
        "%mkdir FusionOutput"
      ],
      "metadata": {
        "colab": {
          "base_uri": "https://localhost:8080/"
        },
        "id": "hw9FPnmu6naq",
        "outputId": "18eab552-f27a-4908-bbde-9415b77ee260"
      },
      "execution_count": 7,
      "outputs": [
        {
          "output_type": "stream",
          "name": "stdout",
          "text": [
            "/content/drive/MyDrive/imageFusion\n"
          ]
        }
      ]
    },
    {
      "cell_type": "code",
      "source": [
        "# Instantiate the self-attention layer\n",
        "self_att_layer = SelfAttention(32)\n",
        "\n",
        "# Define the directory path and loop through the images\n",
        "directory_path = '/content/drive/MyDrive/imageFusion'\n",
        "output_path = '/content/drive/MyDrive/imageFusion/FusionOutput'\n",
        "for filename in os.listdir(directory_path):\n",
        "    if filename.endswith('.jpg') or filename.endswith('.jpeg') or filename.endswith('.png'):\n",
        "        # Load the image\n",
        "        image = Image.open(os.path.join(directory_path, filename))\n",
        "        # Transform the image\n",
        "        image = transform(image).unsqueeze(0)\n",
        "        # Extract the features using the convolutional layer\n",
        "        features = conv_layer(image)\n",
        "        # Apply the self-attention layer to the features\n",
        "        spatial_features = self_att_layer(features)\n",
        "        # Save the spatial features to disk\n",
        "        output_filename = os.path.splitext(filename)[0] + '.pt'\n",
        "        torch.save(spatial_features, os.path.join(output_path, output_filename))\n"
      ],
      "metadata": {
        "id": "wKxwOt835AkZ"
      },
      "execution_count": 15,
      "outputs": []
    },
    {
      "cell_type": "markdown",
      "source": [
        "We have saved the output as a .pt file which we can load into pictorial feature maps using the cell below"
      ],
      "metadata": {
        "id": "Yz8nduQ2-FOT"
      }
    },
    {
      "cell_type": "code",
      "source": [
        "import matplotlib.pyplot as plt\n",
        "\n",
        "# Load the feature map for the first input image\n",
        "#feature_map = torch.load('/path/to/first_image.pt')\n",
        "feature_map = torch.load('/content/drive/MyDrive/imageFusion/FusionOutput/lytro-01-A.pt')\n",
        "\n",
        "# Select the first channel of the feature map\n",
        "channel = 0\n",
        "channel_map = feature_map[0, channel, :, :]\n",
        "\n",
        "# Plot the feature map\n",
        "plt.imshow(channel_map.detach().numpy())\n",
        "plt.show()\n"
      ],
      "metadata": {
        "id": "HhV5Yktx-Efr"
      },
      "execution_count": null,
      "outputs": []
    }
  ]
}